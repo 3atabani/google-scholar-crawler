{
  "nbformat": 4,
  "nbformat_minor": 0,
  "metadata": {
    "colab": {
      "name": "gs_pubs_crawler.ipynb",
      "provenance": []
    },
    "kernelspec": {
      "name": "python3",
      "display_name": "Python 3"
    },
    "language_info": {
      "name": "python"
    }
  },
  "cells": [
    {
      "cell_type": "markdown",
      "source": [
        "### **Google Scholar Publications Crawler**\n",
        "Written by: Eimen Hamedat - https://www.linkedin.com/in/eimenhamedat/\n",
        "\n",
        "*This crawler allows you to define a list of scholars for which it then creates a CSV file of all the scholars' publications listed on Google Scholar.*\n"
      ],
      "metadata": {
        "id": "HcLkhIqkg_9E"
      }
    },
    {
      "cell_type": "markdown",
      "source": [
        "\n",
        "\n",
        "---\n",
        "\n"
      ],
      "metadata": {
        "id": "FDCMs2qThR11"
      }
    },
    {
      "cell_type": "markdown",
      "source": [
        "**Install and/or Import Dependencies**"
      ],
      "metadata": {
        "id": "-cp46fSAhSzk"
      }
    },
    {
      "cell_type": "code",
      "source": [
        "pip install scholarly"
      ],
      "metadata": {
        "id": "gDSnNxML4viZ"
      },
      "execution_count": null,
      "outputs": []
    },
    {
      "cell_type": "code",
      "source": [
        "from scholarly import scholarly\n",
        "from scholarly import ProxyGenerator\n",
        "import os\n",
        "import csv"
      ],
      "metadata": {
        "id": "tmI6wbzt44LK"
      },
      "execution_count": null,
      "outputs": []
    },
    {
      "cell_type": "markdown",
      "source": [
        "**Activate Proxy**"
      ],
      "metadata": {
        "id": "fzkPTxWw2lGG"
      }
    },
    {
      "cell_type": "code",
      "source": [
        "# Activates proxy because Google Scholar otherwise might block the IP address\n",
        "pg = ProxyGenerator()\n",
        "scholarly.use_proxy(pg, pg)"
      ],
      "metadata": {
        "id": "sXSQ-CtI4tVv"
      },
      "execution_count": null,
      "outputs": []
    },
    {
      "cell_type": "markdown",
      "source": [
        "**Define List of Scholars**"
      ],
      "metadata": {
        "id": "LCxm4cDa2oPX"
      }
    },
    {
      "cell_type": "code",
      "execution_count": null,
      "metadata": {
        "id": "r3BhdvEu4sUt"
      },
      "outputs": [],
      "source": [
        "# This list contains the names of all faculty members who's Google Scholar profiles should be scraped.\n",
        "# Make sure that the authors have a Google Scholar profile.\n",
        "# It is important that the names exactly match the name listed on the respective Google Scholar profile.\n",
        "\n",
        "author_names = ['Albert Einstein']"
      ]
    },
    {
      "cell_type": "markdown",
      "source": [
        "**Initiate Crawler**"
      ],
      "metadata": {
        "id": "Rs9HuE2E2fjl"
      }
    },
    {
      "cell_type": "code",
      "source": [
        "keys = ['author','title','num_citations','number_of_co_authors','pub_year']\n",
        "for year in range(2000,2023): # Creates a column for the citations in each year respectively. Currently, it's from 2000 until 2022. \n",
        "    keys.append(f'{year}') # Define the time span you're interested in by changing the years.\n",
        "\n",
        "output_file =  open('faculty_pubs.csv', 'a', newline='')\n",
        "dict_writer = csv.DictWriter(output_file, keys)\n",
        "if os.path.getsize('faculty_pubs.csv') == 0:\n",
        "    dict_writer.writeheader()\n",
        "    output_file.flush()\n",
        "dict_reader = csv.DictReader(open('faculty_pubs.csv', newline=''), keys)\n",
        "csv_reader = [row for row in dict_reader]\n",
        "\n",
        "\n",
        "\n",
        "for name in author_names:\n",
        "    author = next(scholarly.search_author(name))\n",
        "    author =  scholarly.fill((author),sections = ['publications'])\n",
        "    pubs = author['publications']\n",
        "    author_pubs_in_file = [row for row in csv_reader if row['author'] == name]\n",
        "    num_author_pubs_in_file = len(author_pubs_in_file) \n",
        "    if num_author_pubs_in_file >= len(author['publications']): continue\n",
        "    i = 0\n",
        "    for pub in pubs:\n",
        "        if i < num_author_pubs_in_file: \n",
        "            i += 1\n",
        "            continue\n",
        "        pub = scholarly.fill(pub)\n",
        "        if len([x for x in author_pubs_in_file if x['title'] == pub['bib']['title']]) > 0 : continue\n",
        "        pub_res = {\n",
        "            \"author\":name,\n",
        "            \"title\":pub['bib']['title'],\n",
        "            \"num_citations\":pub['num_citations'],\n",
        "            }\n",
        "\n",
        "        if 'author' in pub['bib']:\n",
        "            pub_res[\"number_of_co_authors\"] = len(pub['bib']['author'].split(' and ')) - 1\n",
        "        else:\n",
        "            pub_res[\"number_of_co_authors\"] = ''\n",
        "\n",
        "        if 'pub_year' in pub['bib']:\n",
        "            pub_res['pub_year'] = pub['bib']['pub_year']\n",
        "        else:\n",
        "            pub_res['pub_year'] = ''\n",
        "        \n",
        "        for year in range(2000,2023):\n",
        "            if year in pub['cites_per_year']:\n",
        "                pub_res[f'{year}'] = pub['cites_per_year'][year]\n",
        "            else:\n",
        "                pub_res[f'{year}'] = ''\n",
        "        \n",
        "        dict_writer.writerows([pub_res])\n",
        "        output_file.flush()"
      ],
      "metadata": {
        "id": "cV2yloee4z6r"
      },
      "execution_count": null,
      "outputs": []
    }
  ]
}